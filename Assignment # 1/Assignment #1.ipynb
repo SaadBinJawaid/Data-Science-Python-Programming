{
 "cells": [
  {
   "cell_type": "code",
   "execution_count": 1,
   "id": "4aae3ad6",
   "metadata": {},
   "outputs": [
    {
     "name": "stdout",
     "output_type": "stream",
     "text": [
      "Twinkle, twinkle, little star,\n",
      "\t How i wonder what you are\n",
      "\t\t Up above the world so high,\n",
      "\t\t Like a diamond in the sky.\n",
      "Twinkle, twinkle, little star,\n",
      "\t How i wonder what you are\n"
     ]
    }
   ],
   "source": [
    "#1-\n",
    "print(\"Twinkle, twinkle, little star,\")\n",
    "print (\"\\t How i wonder what you are\")\n",
    "print (\"\\t\\t Up above the world so high,\")\n",
    "print (\"\\t\\t Like a diamond in the sky.\")\n",
    "print(\"Twinkle, twinkle, little star,\")\n",
    "print (\"\\t How i wonder what you are\")"
   ]
  },
  {
   "cell_type": "code",
   "execution_count": 2,
   "id": "b6c59127",
   "metadata": {},
   "outputs": [
    {
     "name": "stdout",
     "output_type": "stream",
     "text": [
      "Python Version we are using is 3.9.7\n"
     ]
    }
   ],
   "source": [
    "#2- \n",
    "import platform\n",
    "print(\"Python Version we are using is\",platform.python_version())"
   ]
  },
  {
   "cell_type": "code",
   "execution_count": 3,
   "id": "0317f6b7",
   "metadata": {},
   "outputs": [
    {
     "name": "stdout",
     "output_type": "stream",
     "text": [
      "Current date and time : 2022-01-01 18:19:54.803063\n"
     ]
    }
   ],
   "source": [
    "#3- \n",
    "import datetime\n",
    "now = datetime.datetime.now()\n",
    "print (\"Current date and time :\", now)\n"
   ]
  },
  {
   "cell_type": "code",
   "execution_count": 4,
   "id": "a669198c",
   "metadata": {},
   "outputs": [
    {
     "name": "stdout",
     "output_type": "stream",
     "text": [
      "Enter The Radius: 5\n",
      "Area of Circle is:  78.525\n"
     ]
    }
   ],
   "source": [
    "#4- A=πr2\n",
    "r = int(input(\"Enter The Radius: \"))\n",
    "A = 3.141*r**2\n",
    "print(\"Area of Circle is: \",A)"
   ]
  },
  {
   "cell_type": "code",
   "execution_count": 5,
   "id": "dd1ccf45",
   "metadata": {},
   "outputs": [
    {
     "name": "stdout",
     "output_type": "stream",
     "text": [
      "Input your First Name : Saad\n",
      "Input your Last Name : Jawaid\n",
      "Jawaid Saad\n"
     ]
    }
   ],
   "source": [
    "#5- \n",
    "fname = input(\"Input your First Name : \")\n",
    "lname = input(\"Input your Last Name : \")\n",
    "Out = lname + \" \" + fname\n",
    "print (Out)"
   ]
  },
  {
   "cell_type": "code",
   "execution_count": 6,
   "id": "9c8fbc9f",
   "metadata": {},
   "outputs": [
    {
     "name": "stdout",
     "output_type": "stream",
     "text": [
      "Enter First No: 15\n",
      "Enter Second No: 36\n",
      "Addition is:  51\n"
     ]
    }
   ],
   "source": [
    "#6- \n",
    "x = input(\"Enter First No: \")\n",
    "y = input (\"Enter Second No: \")\n",
    "z = int(x) + int(y)\n",
    "print(\"Addition is: \",z)"
   ]
  },
  {
   "cell_type": "code",
   "execution_count": null,
   "id": "5fa5a1ca",
   "metadata": {},
   "outputs": [],
   "source": []
  }
 ],
 "metadata": {
  "kernelspec": {
   "display_name": "Python 3 (ipykernel)",
   "language": "python",
   "name": "python3"
  },
  "language_info": {
   "codemirror_mode": {
    "name": "ipython",
    "version": 3
   },
   "file_extension": ".py",
   "mimetype": "text/x-python",
   "name": "python",
   "nbconvert_exporter": "python",
   "pygments_lexer": "ipython3",
   "version": "3.9.7"
  }
 },
 "nbformat": 4,
 "nbformat_minor": 5
}
